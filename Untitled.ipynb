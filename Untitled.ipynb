{
 "cells": [
  {
   "cell_type": "code",
   "execution_count": 11,
   "metadata": {},
   "outputs": [
    {
     "name": "stdout",
     "output_type": "stream",
     "text": [
      "['entity1', 'entity2'] ['[type1,type2]', '[type1,type2]'] [['type1', 'type2'], ['type1', 'type2']] ['type1', 'type2', 'type1', 'type2']\n",
      "data_item:      {'utterance': 'utterance', 'label': 'label'}\n",
      "entity_types:     entity1:[type1,type2];entity2:[type1,type2]\n"
     ]
    }
   ],
   "source": [
    "data = 'utterance\tlabel\tentity1:[type1,type2];entity2:[type1,type2]'\n",
    "\n",
    "data_item = {}\n",
    "item = data.strip().split('\\t')\n",
    "data_item['utterance'], data_item['label'] = item[:2]\n",
    "entity_types = item[2] if len(item)==3 else None\n",
    "type_list = []\n",
    "entities = []\n",
    "types = []\n",
    "\n",
    "\n",
    "if entity_types:\n",
    "    entities = [entity_type.split(\":\")[0] for entity_type in entity_types.split(';')]\n",
    "    type_tmp = [entity_type.split(\":\")[1] for entity_type in entity_types.split(';')]\n",
    "    for t in type_tmp:\n",
    "        t = t.replace('[','').replace(']','').split(',') if t != '[]' else []\n",
    "        types.append(t)\n",
    "        type_list += t\n",
    "    print(entities,type_tmp,types,type_list)\n",
    "\n",
    "\n",
    "\n",
    "\n",
    "\n",
    "\n",
    "print(\"data_item:     \",data_item)\n",
    "print(\"entity_types:    \", entity_types)"
   ]
  },
  {
   "cell_type": "code",
   "execution_count": null,
   "metadata": {},
   "outputs": [],
   "source": []
  }
 ],
 "metadata": {
  "kernelspec": {
   "display_name": "Python 3",
   "language": "python",
   "name": "python3"
  },
  "language_info": {
   "codemirror_mode": {
    "name": "ipython",
    "version": 3
   },
   "file_extension": ".py",
   "mimetype": "text/x-python",
   "name": "python",
   "nbconvert_exporter": "python",
   "pygments_lexer": "ipython3",
   "version": "3.7.0"
  }
 },
 "nbformat": 4,
 "nbformat_minor": 2
}
